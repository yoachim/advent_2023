{
 "cells": [
  {
   "cell_type": "code",
   "execution_count": 3,
   "id": "415931e2",
   "metadata": {},
   "outputs": [],
   "source": [
    "import numpy as np\n",
    "import pandas as pd"
   ]
  },
  {
   "cell_type": "code",
   "execution_count": 4,
   "id": "c4259f26",
   "metadata": {},
   "outputs": [],
   "source": [
    "data = pd.read_csv('input', delimiter=':', header=None)"
   ]
  },
  {
   "cell_type": "code",
   "execution_count": 5,
   "id": "34b70b36",
   "metadata": {},
   "outputs": [
    {
     "data": {
      "text/html": [
       "<div>\n",
       "<style scoped>\n",
       "    .dataframe tbody tr th:only-of-type {\n",
       "        vertical-align: middle;\n",
       "    }\n",
       "\n",
       "    .dataframe tbody tr th {\n",
       "        vertical-align: top;\n",
       "    }\n",
       "\n",
       "    .dataframe thead th {\n",
       "        text-align: right;\n",
       "    }\n",
       "</style>\n",
       "<table border=\"1\" class=\"dataframe\">\n",
       "  <thead>\n",
       "    <tr style=\"text-align: right;\">\n",
       "      <th></th>\n",
       "      <th>0</th>\n",
       "      <th>1</th>\n",
       "    </tr>\n",
       "  </thead>\n",
       "  <tbody>\n",
       "    <tr>\n",
       "      <th>0</th>\n",
       "      <td>Game 1</td>\n",
       "      <td>2 red, 2 green; 6 red, 3 green; 2 red, 1 gree...</td>\n",
       "    </tr>\n",
       "    <tr>\n",
       "      <th>1</th>\n",
       "      <td>Game 2</td>\n",
       "      <td>2 green; 15 red, 5 blue; 2 green, 4 blue, 5 r...</td>\n",
       "    </tr>\n",
       "    <tr>\n",
       "      <th>2</th>\n",
       "      <td>Game 3</td>\n",
       "      <td>10 blue, 8 red, 5 green; 5 green, 3 red; 12 r...</td>\n",
       "    </tr>\n",
       "    <tr>\n",
       "      <th>3</th>\n",
       "      <td>Game 4</td>\n",
       "      <td>2 green, 3 blue, 1 red; 17 green, 1 blue, 1 r...</td>\n",
       "    </tr>\n",
       "    <tr>\n",
       "      <th>4</th>\n",
       "      <td>Game 5</td>\n",
       "      <td>4 green, 13 red, 3 blue; 14 blue, 5 green, 5 ...</td>\n",
       "    </tr>\n",
       "    <tr>\n",
       "      <th>...</th>\n",
       "      <td>...</td>\n",
       "      <td>...</td>\n",
       "    </tr>\n",
       "    <tr>\n",
       "      <th>95</th>\n",
       "      <td>Game 96</td>\n",
       "      <td>3 red, 3 green; 16 green, 2 blue; 7 blue, 3 r...</td>\n",
       "    </tr>\n",
       "    <tr>\n",
       "      <th>96</th>\n",
       "      <td>Game 97</td>\n",
       "      <td>4 red, 6 blue; 2 red; 13 red, 6 blue, 3 green...</td>\n",
       "    </tr>\n",
       "    <tr>\n",
       "      <th>97</th>\n",
       "      <td>Game 98</td>\n",
       "      <td>1 red, 6 green, 7 blue; 14 red, 3 green, 2 bl...</td>\n",
       "    </tr>\n",
       "    <tr>\n",
       "      <th>98</th>\n",
       "      <td>Game 99</td>\n",
       "      <td>3 blue, 8 green, 1 red; 4 green, 1 blue, 2 re...</td>\n",
       "    </tr>\n",
       "    <tr>\n",
       "      <th>99</th>\n",
       "      <td>Game 100</td>\n",
       "      <td>8 red, 2 blue, 1 green; 2 blue, 4 red, 2 gree...</td>\n",
       "    </tr>\n",
       "  </tbody>\n",
       "</table>\n",
       "<p>100 rows × 2 columns</p>\n",
       "</div>"
      ],
      "text/plain": [
       "           0                                                  1\n",
       "0     Game 1   2 red, 2 green; 6 red, 3 green; 2 red, 1 gree...\n",
       "1     Game 2   2 green; 15 red, 5 blue; 2 green, 4 blue, 5 r...\n",
       "2     Game 3   10 blue, 8 red, 5 green; 5 green, 3 red; 12 r...\n",
       "3     Game 4   2 green, 3 blue, 1 red; 17 green, 1 blue, 1 r...\n",
       "4     Game 5   4 green, 13 red, 3 blue; 14 blue, 5 green, 5 ...\n",
       "..       ...                                                ...\n",
       "95   Game 96   3 red, 3 green; 16 green, 2 blue; 7 blue, 3 r...\n",
       "96   Game 97   4 red, 6 blue; 2 red; 13 red, 6 blue, 3 green...\n",
       "97   Game 98   1 red, 6 green, 7 blue; 14 red, 3 green, 2 bl...\n",
       "98   Game 99   3 blue, 8 green, 1 red; 4 green, 1 blue, 2 re...\n",
       "99  Game 100   8 red, 2 blue, 1 green; 2 blue, 4 red, 2 gree...\n",
       "\n",
       "[100 rows x 2 columns]"
      ]
     },
     "execution_count": 5,
     "metadata": {},
     "output_type": "execute_result"
    }
   ],
   "source": [
    "data"
   ]
  },
  {
   "cell_type": "code",
   "execution_count": 10,
   "id": "27db12b0",
   "metadata": {},
   "outputs": [],
   "source": [
    "def max_color_parser(in_string, red_allow=12, blue_allow=14, green_allow=13):\n",
    "    tries = in_string.split(';')\n",
    "    max_red = 0\n",
    "    max_blue = 0\n",
    "    max_green = 0\n",
    "    \n",
    "    for attempt in tries:\n",
    "        colors = attempt.split(',')\n",
    "        for color in colors:\n",
    "            if 'red' in color:\n",
    "                result = color.replace('red', '').replace(' ', '')\n",
    "                max_red = np.max([max_red, int(result)])\n",
    "            if 'green' in color:\n",
    "                result = color.replace('green', '').replace(' ', '')\n",
    "                max_green = np.max([max_green, int(result)])\n",
    "            if 'blue' in color:\n",
    "                result = color.replace('blue', '').replace(' ', '')\n",
    "                max_blue = np.max([max_blue, int(result)])\n",
    "                \n",
    "    valid = True\n",
    "    if max_red > red_allow:\n",
    "        valid = False\n",
    "    if max_blue > blue_allow:\n",
    "        valid = False\n",
    "    if max_green > green_allow:\n",
    "        valid = False\n",
    "    \n",
    "    return valid\n",
    "            \n",
    "                "
   ]
  },
  {
   "cell_type": "code",
   "execution_count": 11,
   "id": "c4da03ad",
   "metadata": {},
   "outputs": [
    {
     "data": {
      "text/plain": [
       "False"
      ]
     },
     "execution_count": 11,
     "metadata": {},
     "output_type": "execute_result"
    }
   ],
   "source": [
    "max_color_parser(data.iloc[1][1])"
   ]
  },
  {
   "cell_type": "code",
   "execution_count": 14,
   "id": "99482101",
   "metadata": {},
   "outputs": [],
   "source": [
    "results = [max_color_parser(game) for game in data[1]]    "
   ]
  },
  {
   "cell_type": "code",
   "execution_count": 16,
   "id": "3a892b2e",
   "metadata": {},
   "outputs": [],
   "source": [
    "game_id = np.arange(len(results)) + 1"
   ]
  },
  {
   "cell_type": "code",
   "execution_count": 19,
   "id": "8067829a",
   "metadata": {},
   "outputs": [
    {
     "data": {
      "text/plain": [
       "2169"
      ]
     },
     "execution_count": 19,
     "metadata": {},
     "output_type": "execute_result"
    }
   ],
   "source": [
    "game_id[results].sum()"
   ]
  },
  {
   "cell_type": "code",
   "execution_count": 16,
   "id": "385f95d3",
   "metadata": {},
   "outputs": [],
   "source": [
    "def min_color_parser(in_string):\n",
    "    tries = in_string.split(';')\n",
    "    needed_red = 0\n",
    "    needed_blue = 0\n",
    "    needed_green = 0\n",
    "    for attempt in tries:\n",
    "        \n",
    "        colors = attempt.split(',')\n",
    "        for color in colors:\n",
    "            if 'red' in color:\n",
    "                result = color.replace('red', '').replace(' ', '')\n",
    "                needed_red = np.max([needed_red, int(result)])\n",
    "            if 'green' in color:\n",
    "                result = color.replace('green', '').replace(' ', '')\n",
    "                needed_green = np.max([needed_green, int(result)])\n",
    "            if 'blue' in color:\n",
    "                result = color.replace('blue', '').replace(' ', '')\n",
    "                needed_blue = np.max([needed_blue, int(result)])\n",
    "                \n",
    "    power = needed_red * needed_blue * needed_green\n",
    "    return power\n",
    "            "
   ]
  },
  {
   "cell_type": "code",
   "execution_count": 17,
   "id": "80c9ec34",
   "metadata": {},
   "outputs": [
    {
     "data": {
      "text/plain": [
       "2660"
      ]
     },
     "execution_count": 17,
     "metadata": {},
     "output_type": "execute_result"
    }
   ],
   "source": [
    "min_color_parser(data.iloc[10][1])"
   ]
  },
  {
   "cell_type": "code",
   "execution_count": 18,
   "id": "ecc4dc00",
   "metadata": {},
   "outputs": [],
   "source": [
    "powers = [min_color_parser(game) for game in data[1]]"
   ]
  },
  {
   "cell_type": "code",
   "execution_count": 19,
   "id": "45ac3ff0",
   "metadata": {},
   "outputs": [
    {
     "data": {
      "text/plain": [
       "60948"
      ]
     },
     "execution_count": 19,
     "metadata": {},
     "output_type": "execute_result"
    }
   ],
   "source": [
    "np.sum(powers)"
   ]
  },
  {
   "cell_type": "code",
   "execution_count": null,
   "id": "594c53ce",
   "metadata": {},
   "outputs": [],
   "source": []
  }
 ],
 "metadata": {
  "kernelspec": {
   "display_name": "Python 3 (ipykernel)",
   "language": "python",
   "name": "python3"
  },
  "language_info": {
   "codemirror_mode": {
    "name": "ipython",
    "version": 3
   },
   "file_extension": ".py",
   "mimetype": "text/x-python",
   "name": "python",
   "nbconvert_exporter": "python",
   "pygments_lexer": "ipython3",
   "version": "3.9.16"
  }
 },
 "nbformat": 4,
 "nbformat_minor": 5
}
