{
 "cells": [
  {
   "cell_type": "code",
   "execution_count": 1,
   "id": "536762f8-d299-48ab-8b7e-d070b0dd9a1f",
   "metadata": {},
   "outputs": [],
   "source": [
    "import numpy as np\n",
    "import pandas as pd"
   ]
  },
  {
   "cell_type": "code",
   "execution_count": 2,
   "id": "134e7229-eab7-4e9b-b049-294cd4a07635",
   "metadata": {},
   "outputs": [],
   "source": [
    "def hand_maker(in_str):\n",
    "    replace_dict = {'A': 14, 'K': 13, 'Q':12 , 'J':1, 'T':10}\n",
    "\n",
    "    out_hand = []\n",
    "    for s in in_str:\n",
    "        if s in replace_dict.keys():\n",
    "            out_hand.append(replace_dict[s])\n",
    "        else:\n",
    "            out_hand.append(int(s))\n",
    "    \n",
    "    #out_hand.sort()\n",
    "    return out_hand\n",
    "\n",
    "def rank_hand(hand):\n",
    "    # high_card = 0\n",
    "    # 1p = 1\n",
    "    # 2p = 2\n",
    "    # 3 of kind = 3\n",
    "    # full house = 4\n",
    "    # 4 = 5\n",
    "    # 5 = 6\n",
    "\n",
    "    if 1 in hand:\n",
    "        rest_of_hand = [ca for ca in hand if ca !=1]\n",
    "        n_instances = []\n",
    "        for card in np.unique(hand):\n",
    "            n_instances.append(np.size(np.where(hand == card)[0]))\n",
    "        max_repeat = np.max(n_instances)\n",
    "        best_replace = np.max(np.unique(hand)[np.where(n_instances == max_repeat)[0]])\n",
    "        n_js = 5-len(rest_of_hand)\n",
    "        if best_replace == 1:\n",
    "            best_replace = max(hand)\n",
    "        new_hand = rest_of_hand + [best_replace]*n_js\n",
    "        if max(new_hand) == 1:\n",
    "            new_hand = [14]*5\n",
    "        return rank_hand(new_hand)\n",
    "        \n",
    "\n",
    "    \n",
    "    n_instances = []\n",
    "    for card in np.unique(hand):\n",
    "        n_instances.append(np.size(np.where(hand == card)[0]))\n",
    "    max_repeat = np.max(n_instances)\n",
    "    \n",
    "    if max_repeat == 5:\n",
    "        return 6\n",
    "    elif max_repeat == 4:\n",
    "        return 5\n",
    "    elif max_repeat == 3:\n",
    "        if 2 in n_instances:\n",
    "            return 4\n",
    "        else:\n",
    "            return 3\n",
    "    elif max_repeat == 2:\n",
    "        if np.size(np.unique(hand)) == 3:\n",
    "            return 2\n",
    "        else:\n",
    "            return 1\n",
    "    else:\n",
    "        return 0\n",
    "\n",
    "    \n",
    "        \n"
   ]
  },
  {
   "cell_type": "code",
   "execution_count": null,
   "id": "3e15146c-6b70-40f8-b17e-e5c3aa557752",
   "metadata": {},
   "outputs": [],
   "source": [
    " \n",
    "\n",
    "    "
   ]
  },
  {
   "cell_type": "code",
   "execution_count": 3,
   "id": "27361cfd-500a-41a5-90d9-4ddc0d3a26d1",
   "metadata": {},
   "outputs": [],
   "source": [
    "[10,2,3].sort()"
   ]
  },
  {
   "cell_type": "code",
   "execution_count": 4,
   "id": "4c8535ef-5226-4e1b-96b3-45316becd66c",
   "metadata": {},
   "outputs": [
    {
     "data": {
      "text/plain": [
       "5"
      ]
     },
     "execution_count": 4,
     "metadata": {},
     "output_type": "execute_result"
    }
   ],
   "source": [
    "hand = [10, 10, 10, 12, 1]\n",
    "rank_hand(hand)"
   ]
  },
  {
   "cell_type": "code",
   "execution_count": null,
   "id": "b35761b0-20c3-4e07-9012-517801b7441b",
   "metadata": {},
   "outputs": [],
   "source": []
  },
  {
   "cell_type": "code",
   "execution_count": 5,
   "id": "774247e2-ac8c-4176-a92d-8a977c5d763f",
   "metadata": {},
   "outputs": [],
   "source": [
    "# Example data:\n",
    "#handb = [['32T3K', 765],['T55J5' ,684],['KK677' ,28],['KTJJT' ,220],['QQQJA' ,483]]\n",
    "#hands = []\n",
    "#bids = []\n",
    "#for item in handb:\n",
    "#    hands.append(hand_maker(item[0]))\n",
    "#    bids.append(item[1])\n",
    "   \n",
    "data = pd.read_csv('input', header=None, delimiter=' ')\n",
    "bids = data[1]\n",
    "hands = [hand_maker(h) for h in data[0]]\n"
   ]
  },
  {
   "cell_type": "code",
   "execution_count": null,
   "id": "20f8ff60-28e8-4791-896f-5567cbe40dd1",
   "metadata": {},
   "outputs": [],
   "source": []
  },
  {
   "cell_type": "code",
   "execution_count": null,
   "id": "72238cab-a670-4b68-9c96-30897e2879fe",
   "metadata": {},
   "outputs": [],
   "source": []
  },
  {
   "cell_type": "code",
   "execution_count": 6,
   "id": "ec539b76-ea87-4494-a7f5-fdd9eeae8ec9",
   "metadata": {},
   "outputs": [],
   "source": [
    "ranks = [rank_hand(h) for h in hands]"
   ]
  },
  {
   "cell_type": "code",
   "execution_count": 7,
   "id": "ee1b7ab3-f986-43a6-a0c9-940fb9d65529",
   "metadata": {},
   "outputs": [],
   "source": [
    "h_array = np.array(hands)"
   ]
  },
  {
   "cell_type": "code",
   "execution_count": 8,
   "id": "f397aaee-2b38-444f-97f3-10c2df882e29",
   "metadata": {},
   "outputs": [],
   "source": [
    "df = pd.DataFrame(h_array)"
   ]
  },
  {
   "cell_type": "code",
   "execution_count": 9,
   "id": "5116e4f2-3106-4772-9a06-5998462b5afe",
   "metadata": {},
   "outputs": [],
   "source": [
    "df['scores'] = ranks\n",
    "df['bids'] = bids"
   ]
  },
  {
   "cell_type": "code",
   "execution_count": 10,
   "id": "53c738d3-55f2-4d0a-afe7-d8fd5a528e5f",
   "metadata": {},
   "outputs": [
    {
     "data": {
      "text/html": [
       "<div>\n",
       "<style scoped>\n",
       "    .dataframe tbody tr th:only-of-type {\n",
       "        vertical-align: middle;\n",
       "    }\n",
       "\n",
       "    .dataframe tbody tr th {\n",
       "        vertical-align: top;\n",
       "    }\n",
       "\n",
       "    .dataframe thead th {\n",
       "        text-align: right;\n",
       "    }\n",
       "</style>\n",
       "<table border=\"1\" class=\"dataframe\">\n",
       "  <thead>\n",
       "    <tr style=\"text-align: right;\">\n",
       "      <th></th>\n",
       "      <th>0</th>\n",
       "      <th>1</th>\n",
       "      <th>2</th>\n",
       "      <th>3</th>\n",
       "      <th>4</th>\n",
       "      <th>scores</th>\n",
       "      <th>bids</th>\n",
       "    </tr>\n",
       "  </thead>\n",
       "  <tbody>\n",
       "    <tr>\n",
       "      <th>551</th>\n",
       "      <td>2</td>\n",
       "      <td>3</td>\n",
       "      <td>13</td>\n",
       "      <td>14</td>\n",
       "      <td>12</td>\n",
       "      <td>0</td>\n",
       "      <td>361</td>\n",
       "    </tr>\n",
       "    <tr>\n",
       "      <th>911</th>\n",
       "      <td>2</td>\n",
       "      <td>5</td>\n",
       "      <td>6</td>\n",
       "      <td>12</td>\n",
       "      <td>3</td>\n",
       "      <td>0</td>\n",
       "      <td>403</td>\n",
       "    </tr>\n",
       "    <tr>\n",
       "      <th>799</th>\n",
       "      <td>2</td>\n",
       "      <td>5</td>\n",
       "      <td>10</td>\n",
       "      <td>3</td>\n",
       "      <td>9</td>\n",
       "      <td>0</td>\n",
       "      <td>407</td>\n",
       "    </tr>\n",
       "    <tr>\n",
       "      <th>891</th>\n",
       "      <td>2</td>\n",
       "      <td>6</td>\n",
       "      <td>8</td>\n",
       "      <td>10</td>\n",
       "      <td>13</td>\n",
       "      <td>0</td>\n",
       "      <td>628</td>\n",
       "    </tr>\n",
       "    <tr>\n",
       "      <th>496</th>\n",
       "      <td>2</td>\n",
       "      <td>7</td>\n",
       "      <td>9</td>\n",
       "      <td>8</td>\n",
       "      <td>12</td>\n",
       "      <td>0</td>\n",
       "      <td>1000</td>\n",
       "    </tr>\n",
       "    <tr>\n",
       "      <th>...</th>\n",
       "      <td>...</td>\n",
       "      <td>...</td>\n",
       "      <td>...</td>\n",
       "      <td>...</td>\n",
       "      <td>...</td>\n",
       "      <td>...</td>\n",
       "      <td>...</td>\n",
       "    </tr>\n",
       "    <tr>\n",
       "      <th>100</th>\n",
       "      <td>12</td>\n",
       "      <td>12</td>\n",
       "      <td>12</td>\n",
       "      <td>1</td>\n",
       "      <td>1</td>\n",
       "      <td>6</td>\n",
       "      <td>503</td>\n",
       "    </tr>\n",
       "    <tr>\n",
       "      <th>992</th>\n",
       "      <td>13</td>\n",
       "      <td>1</td>\n",
       "      <td>13</td>\n",
       "      <td>13</td>\n",
       "      <td>1</td>\n",
       "      <td>6</td>\n",
       "      <td>78</td>\n",
       "    </tr>\n",
       "    <tr>\n",
       "      <th>216</th>\n",
       "      <td>13</td>\n",
       "      <td>13</td>\n",
       "      <td>13</td>\n",
       "      <td>13</td>\n",
       "      <td>1</td>\n",
       "      <td>6</td>\n",
       "      <td>465</td>\n",
       "    </tr>\n",
       "    <tr>\n",
       "      <th>29</th>\n",
       "      <td>14</td>\n",
       "      <td>1</td>\n",
       "      <td>14</td>\n",
       "      <td>14</td>\n",
       "      <td>14</td>\n",
       "      <td>6</td>\n",
       "      <td>945</td>\n",
       "    </tr>\n",
       "    <tr>\n",
       "      <th>738</th>\n",
       "      <td>14</td>\n",
       "      <td>14</td>\n",
       "      <td>14</td>\n",
       "      <td>1</td>\n",
       "      <td>1</td>\n",
       "      <td>6</td>\n",
       "      <td>24</td>\n",
       "    </tr>\n",
       "  </tbody>\n",
       "</table>\n",
       "<p>1000 rows × 7 columns</p>\n",
       "</div>"
      ],
      "text/plain": [
       "      0   1   2   3   4  scores  bids\n",
       "551   2   3  13  14  12       0   361\n",
       "911   2   5   6  12   3       0   403\n",
       "799   2   5  10   3   9       0   407\n",
       "891   2   6   8  10  13       0   628\n",
       "496   2   7   9   8  12       0  1000\n",
       "..   ..  ..  ..  ..  ..     ...   ...\n",
       "100  12  12  12   1   1       6   503\n",
       "992  13   1  13  13   1       6    78\n",
       "216  13  13  13  13   1       6   465\n",
       "29   14   1  14  14  14       6   945\n",
       "738  14  14  14   1   1       6    24\n",
       "\n",
       "[1000 rows x 7 columns]"
      ]
     },
     "execution_count": 10,
     "metadata": {},
     "output_type": "execute_result"
    }
   ],
   "source": [
    "df = df.sort_values(['scores', 0, 1, 2, 3 ,4])\n",
    "df"
   ]
  },
  {
   "cell_type": "code",
   "execution_count": 11,
   "id": "455acb7a-4c8b-4c82-b588-363a37ce4a17",
   "metadata": {},
   "outputs": [
    {
     "data": {
      "text/plain": [
       "250087440"
      ]
     },
     "execution_count": 11,
     "metadata": {},
     "output_type": "execute_result"
    }
   ],
   "source": [
    "np.sum(df['bids'].values * np.arange(1,len(df)+1))"
   ]
  },
  {
   "cell_type": "code",
   "execution_count": 12,
   "id": "b9627348-c2ae-4bc9-b2c8-1284fd144d1d",
   "metadata": {},
   "outputs": [],
   "source": [
    "# 250087230 is too low."
   ]
  },
  {
   "cell_type": "code",
   "execution_count": 13,
   "id": "91523c1c-747f-44e5-aa53-00ddc2b9b808",
   "metadata": {},
   "outputs": [
    {
     "data": {
      "text/plain": [
       "5"
      ]
     },
     "execution_count": 13,
     "metadata": {},
     "output_type": "execute_result"
    }
   ],
   "source": [
    "hand = [13, 10, 1,1,10]\n",
    "rank_hand(hand)"
   ]
  },
  {
   "cell_type": "code",
   "execution_count": null,
   "id": "06587c76-a034-4f5d-b64a-572630effadb",
   "metadata": {},
   "outputs": [],
   "source": []
  },
  {
   "cell_type": "code",
   "execution_count": null,
   "id": "d3d183c2-d130-49e2-8fff-a3e3132a7c86",
   "metadata": {},
   "outputs": [],
   "source": []
  }
 ],
 "metadata": {
  "kernelspec": {
   "display_name": "Python 3 (ipykernel)",
   "language": "python",
   "name": "python3"
  },
  "language_info": {
   "codemirror_mode": {
    "name": "ipython",
    "version": 3
   },
   "file_extension": ".py",
   "mimetype": "text/x-python",
   "name": "python",
   "nbconvert_exporter": "python",
   "pygments_lexer": "ipython3",
   "version": "3.11.6"
  }
 },
 "nbformat": 4,
 "nbformat_minor": 5
}
