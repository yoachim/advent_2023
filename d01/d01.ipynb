{
 "cells": [
  {
   "cell_type": "code",
   "execution_count": 1,
   "id": "43330c73",
   "metadata": {},
   "outputs": [],
   "source": [
    "import pandas as pd\n",
    "import numpy as np\n",
    "\n",
    "import re"
   ]
  },
  {
   "cell_type": "code",
   "execution_count": 2,
   "id": "c3099174",
   "metadata": {},
   "outputs": [],
   "source": [
    "data = pd.read_csv('input', header=None)"
   ]
  },
  {
   "cell_type": "code",
   "execution_count": 3,
   "id": "d513b1b8",
   "metadata": {},
   "outputs": [
    {
     "data": {
      "text/html": [
       "<div>\n",
       "<style scoped>\n",
       "    .dataframe tbody tr th:only-of-type {\n",
       "        vertical-align: middle;\n",
       "    }\n",
       "\n",
       "    .dataframe tbody tr th {\n",
       "        vertical-align: top;\n",
       "    }\n",
       "\n",
       "    .dataframe thead th {\n",
       "        text-align: right;\n",
       "    }\n",
       "</style>\n",
       "<table border=\"1\" class=\"dataframe\">\n",
       "  <thead>\n",
       "    <tr style=\"text-align: right;\">\n",
       "      <th></th>\n",
       "      <th>0</th>\n",
       "    </tr>\n",
       "  </thead>\n",
       "  <tbody>\n",
       "    <tr>\n",
       "      <th>0</th>\n",
       "      <td>threerznlrhtkjp23mtflmbrzq395three</td>\n",
       "    </tr>\n",
       "    <tr>\n",
       "      <th>1</th>\n",
       "      <td>9sevenvlttm</td>\n",
       "    </tr>\n",
       "    <tr>\n",
       "      <th>2</th>\n",
       "      <td>3twochzbv</td>\n",
       "    </tr>\n",
       "    <tr>\n",
       "      <th>3</th>\n",
       "      <td>mdxdlh5six5nqfld9bqzxdqxfour</td>\n",
       "    </tr>\n",
       "    <tr>\n",
       "      <th>4</th>\n",
       "      <td>422268</td>\n",
       "    </tr>\n",
       "    <tr>\n",
       "      <th>...</th>\n",
       "      <td>...</td>\n",
       "    </tr>\n",
       "    <tr>\n",
       "      <th>995</th>\n",
       "      <td>hthphptmmtwo7sixsevenoneightls</td>\n",
       "    </tr>\n",
       "    <tr>\n",
       "      <th>996</th>\n",
       "      <td>qxbhjmmqsixfkfn36three6</td>\n",
       "    </tr>\n",
       "    <tr>\n",
       "      <th>997</th>\n",
       "      <td>eightmkmdtvkctkvptsbckzpnkhpskdmp3</td>\n",
       "    </tr>\n",
       "    <tr>\n",
       "      <th>998</th>\n",
       "      <td>six2twobgzsfsptlqnine42xtmdprjqc</td>\n",
       "    </tr>\n",
       "    <tr>\n",
       "      <th>999</th>\n",
       "      <td>pxreightwo7</td>\n",
       "    </tr>\n",
       "  </tbody>\n",
       "</table>\n",
       "<p>1000 rows × 1 columns</p>\n",
       "</div>"
      ],
      "text/plain": [
       "                                      0\n",
       "0    threerznlrhtkjp23mtflmbrzq395three\n",
       "1                           9sevenvlttm\n",
       "2                             3twochzbv\n",
       "3          mdxdlh5six5nqfld9bqzxdqxfour\n",
       "4                                422268\n",
       "..                                  ...\n",
       "995      hthphptmmtwo7sixsevenoneightls\n",
       "996             qxbhjmmqsixfkfn36three6\n",
       "997  eightmkmdtvkctkvptsbckzpnkhpskdmp3\n",
       "998    six2twobgzsfsptlqnine42xtmdprjqc\n",
       "999                         pxreightwo7\n",
       "\n",
       "[1000 rows x 1 columns]"
      ]
     },
     "execution_count": 3,
     "metadata": {},
     "output_type": "execute_result"
    }
   ],
   "source": [
    "data"
   ]
  },
  {
   "cell_type": "code",
   "execution_count": 4,
   "id": "ce718bf9",
   "metadata": {},
   "outputs": [
    {
     "data": {
      "text/plain": [
       "'threerznlrhtkjp23mtflmbrzq395three'"
      ]
     },
     "execution_count": 4,
     "metadata": {},
     "output_type": "execute_result"
    }
   ],
   "source": [
    "data[0].values[0]\n",
    "\n",
    "\n",
    "#re.findall(r'\\d+', test_string)"
   ]
  },
  {
   "cell_type": "code",
   "execution_count": 5,
   "id": "01243733",
   "metadata": {},
   "outputs": [
    {
     "data": {
      "text/plain": [
       "['23', '395']"
      ]
     },
     "execution_count": 5,
     "metadata": {},
     "output_type": "execute_result"
    }
   ],
   "source": [
    "re.findall(r'\\d+', data[0].values[0])"
   ]
  },
  {
   "cell_type": "code",
   "execution_count": 6,
   "id": "5c9b6dc6",
   "metadata": {},
   "outputs": [],
   "source": [
    "def str2twod(in_str):\n",
    "    all_dig = re.findall(r'\\d+', in_str)\n",
    "    result = all_dig[0][0] + all_dig[-1][-1]\n",
    "    return int(result)"
   ]
  },
  {
   "cell_type": "code",
   "execution_count": 7,
   "id": "35bcb340",
   "metadata": {},
   "outputs": [
    {
     "data": {
      "text/plain": [
       "55971"
      ]
     },
     "execution_count": 7,
     "metadata": {},
     "output_type": "execute_result"
    }
   ],
   "source": [
    "np.sum([str2twod(item) for item in data[0].values])"
   ]
  },
  {
   "cell_type": "code",
   "execution_count": null,
   "id": "a7b80756",
   "metadata": {},
   "outputs": [],
   "source": [
    "\n"
   ]
  },
  {
   "cell_type": "code",
   "execution_count": 8,
   "id": "85e65cf1",
   "metadata": {},
   "outputs": [],
   "source": [
    "def str2twod(in_str):\n",
    "    \n",
    "    words = ['one', 'two', 'three', 'four', 'five', 'six', 'seven', 'eight', 'nine']\n",
    "    digits = ['1', '2', '3', '4', '5', '6', '7', '8', '9']\n",
    "    w2d = {}\n",
    "    for w,d in zip(words, digits):\n",
    "        w2d[w] = d\n",
    "\n",
    "    \n",
    "    first_dig = 0\n",
    "    first_loc = 1e6\n",
    "    for dig in digits:\n",
    "        loc = in_str.find(dig)\n",
    "        if loc > -1:\n",
    "            if loc < first_loc:\n",
    "                first_loc = loc\n",
    "                first_dig = dig\n",
    "    for dig in words:\n",
    "        loc = in_str.find(dig)\n",
    "        if loc > -1:\n",
    "            if loc < first_loc:\n",
    "                first_loc = loc\n",
    "                first_dig = w2d[dig]\n",
    "        \n",
    "    last_dig = '0'\n",
    "    last_loc = 1e6\n",
    "    \n",
    "    rev_str = in_str[::-1]\n",
    "    for dig in digits:\n",
    "        loc = rev_str.find(dig)\n",
    "        if loc > -1:\n",
    "            if loc < last_loc:\n",
    "                last_loc = loc\n",
    "                last_dig = dig\n",
    "                \n",
    "    for dig in words:\n",
    "        loc = rev_str.find(dig[::-1])\n",
    "        if loc > -1:\n",
    "            if loc < last_loc:\n",
    "                last_loc = loc\n",
    "                last_dig = w2d[dig]\n",
    "    \n",
    "   \n",
    "    return int(first_dig + last_dig)"
   ]
  },
  {
   "cell_type": "code",
   "execution_count": 9,
   "id": "5d78a225",
   "metadata": {},
   "outputs": [
    {
     "data": {
      "text/plain": [
       "33"
      ]
     },
     "execution_count": 9,
     "metadata": {},
     "output_type": "execute_result"
    }
   ],
   "source": [
    "str2twod(data[0].values[0])"
   ]
  },
  {
   "cell_type": "code",
   "execution_count": 13,
   "id": "ac8fa823",
   "metadata": {},
   "outputs": [
    {
     "data": {
      "text/plain": [
       "54719"
      ]
     },
     "execution_count": 13,
     "metadata": {},
     "output_type": "execute_result"
    }
   ],
   "source": [
    "np.sum([str2twod(val) for val in data[0].values])"
   ]
  },
  {
   "cell_type": "code",
   "execution_count": 11,
   "id": "4d1ec985",
   "metadata": {},
   "outputs": [
    {
     "data": {
      "text/plain": [
       "0"
      ]
     },
     "execution_count": 11,
     "metadata": {},
     "output_type": "execute_result"
    }
   ],
   "source": [
    "data[0].values[0].find('three')"
   ]
  },
  {
   "cell_type": "code",
   "execution_count": null,
   "id": "439f3797",
   "metadata": {},
   "outputs": [],
   "source": []
  }
 ],
 "metadata": {
  "kernelspec": {
   "display_name": "Python 3 (ipykernel)",
   "language": "python",
   "name": "python3"
  },
  "language_info": {
   "codemirror_mode": {
    "name": "ipython",
    "version": 3
   },
   "file_extension": ".py",
   "mimetype": "text/x-python",
   "name": "python",
   "nbconvert_exporter": "python",
   "pygments_lexer": "ipython3",
   "version": "3.9.16"
  }
 },
 "nbformat": 4,
 "nbformat_minor": 5
}
