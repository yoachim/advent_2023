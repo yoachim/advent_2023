{
 "cells": [
  {
   "cell_type": "code",
   "execution_count": 1,
   "id": "9123bcfc-18ae-41a1-8bf0-97e0119eae29",
   "metadata": {},
   "outputs": [],
   "source": [
    "import numpy as np"
   ]
  },
  {
   "cell_type": "code",
   "execution_count": 3,
   "id": "1cb6d0f5-6d69-440e-93d8-76b1a693414f",
   "metadata": {},
   "outputs": [],
   "source": [
    "#times = [7,  15 ,  30]\n",
    "#distances = [9  ,40 , 200]"
   ]
  },
  {
   "cell_type": "code",
   "execution_count": 31,
   "id": "26dd2991-f998-490a-88cf-c183120a4a49",
   "metadata": {},
   "outputs": [],
   "source": [
    "times = [63789468]\n",
    "distances = [411127420471035]"
   ]
  },
  {
   "cell_type": "code",
   "execution_count": null,
   "id": "920811b7-0713-45ab-b423-40c018b34a0e",
   "metadata": {},
   "outputs": [],
   "source": []
  },
  {
   "cell_type": "code",
   "execution_count": 32,
   "id": "abbc1d79-6073-4bdb-a34f-1a18dc73f103",
   "metadata": {},
   "outputs": [],
   "source": [
    "def potential_dist(time):\n",
    "    charge_times = np.arange(time)\n",
    "    remaining_time = time - charge_times\n",
    "\n",
    "    d = charge_times * remaining_time\n",
    "    return d\n",
    "    "
   ]
  },
  {
   "cell_type": "code",
   "execution_count": 33,
   "id": "29486b2a-ef8b-4758-b6bb-2199ec4b5e5f",
   "metadata": {},
   "outputs": [],
   "source": [
    "n_wins = []\n",
    "start = 1\n",
    "for t,d in zip(times, distances):\n",
    "    pd = potential_dist(t)\n",
    "    n_wins.append(np.where(pd > d)[0].size)\n",
    "    start *= n_wins[-1]"
   ]
  },
  {
   "cell_type": "code",
   "execution_count": 34,
   "id": "ab1fbc14-0103-4ba5-9eab-e10fc31b6ba5",
   "metadata": {},
   "outputs": [
    {
     "data": {
      "text/plain": [
       "49240091"
      ]
     },
     "execution_count": 34,
     "metadata": {},
     "output_type": "execute_result"
    }
   ],
   "source": [
    "start"
   ]
  },
  {
   "cell_type": "code",
   "execution_count": 10,
   "id": "670c9f17-f2a2-442a-b6e1-6fcd27ec51c5",
   "metadata": {},
   "outputs": [
    {
     "data": {
      "text/plain": [
       "(array([2, 3, 4, 5]),)"
      ]
     },
     "execution_count": 10,
     "metadata": {},
     "output_type": "execute_result"
    }
   ],
   "source": []
  },
  {
   "cell_type": "code",
   "execution_count": null,
   "id": "7819dbb7-388d-491b-93b2-a88f3e5722b9",
   "metadata": {},
   "outputs": [],
   "source": []
  },
  {
   "cell_type": "code",
   "execution_count": null,
   "id": "c04e3b97-4d1c-4c66-a720-e0dea2ddbb7f",
   "metadata": {},
   "outputs": [],
   "source": []
  }
 ],
 "metadata": {
  "kernelspec": {
   "display_name": "Python 3 (ipykernel)",
   "language": "python",
   "name": "python3"
  },
  "language_info": {
   "codemirror_mode": {
    "name": "ipython",
    "version": 3
   },
   "file_extension": ".py",
   "mimetype": "text/x-python",
   "name": "python",
   "nbconvert_exporter": "python",
   "pygments_lexer": "ipython3",
   "version": "3.11.6"
  }
 },
 "nbformat": 4,
 "nbformat_minor": 5
}
