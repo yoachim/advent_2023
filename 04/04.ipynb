{
 "cells": [
  {
   "cell_type": "code",
   "execution_count": 1,
   "id": "179dadb9",
   "metadata": {},
   "outputs": [],
   "source": [
    "import pandas as pd\n",
    "import numpy as np\n"
   ]
  },
  {
   "cell_type": "code",
   "execution_count": 2,
   "id": "436ac752",
   "metadata": {},
   "outputs": [],
   "source": [
    "data = pd.read_csv('input', header=None)\n",
    "#data = pd.read_csv('test.txt', header=None)\n"
   ]
  },
  {
   "cell_type": "code",
   "execution_count": 3,
   "id": "1601e5b2",
   "metadata": {},
   "outputs": [
    {
     "data": {
      "text/html": [
       "<div>\n",
       "<style scoped>\n",
       "    .dataframe tbody tr th:only-of-type {\n",
       "        vertical-align: middle;\n",
       "    }\n",
       "\n",
       "    .dataframe tbody tr th {\n",
       "        vertical-align: top;\n",
       "    }\n",
       "\n",
       "    .dataframe thead th {\n",
       "        text-align: right;\n",
       "    }\n",
       "</style>\n",
       "<table border=\"1\" class=\"dataframe\">\n",
       "  <thead>\n",
       "    <tr style=\"text-align: right;\">\n",
       "      <th></th>\n",
       "      <th>0</th>\n",
       "    </tr>\n",
       "  </thead>\n",
       "  <tbody>\n",
       "    <tr>\n",
       "      <th>0</th>\n",
       "      <td>Card   1: 71 88 83  5 15 54 89 55 69 79 | 83 3...</td>\n",
       "    </tr>\n",
       "    <tr>\n",
       "      <th>1</th>\n",
       "      <td>Card   2: 33 11 66 48 67 95 78 71 98 65 | 66  ...</td>\n",
       "    </tr>\n",
       "    <tr>\n",
       "      <th>2</th>\n",
       "      <td>Card   3: 28 58 71 40 25 13  7 19 61 72 | 47 8...</td>\n",
       "    </tr>\n",
       "    <tr>\n",
       "      <th>3</th>\n",
       "      <td>Card   4: 58 26 74 94 42 29  9 90 76 54 | 74 9...</td>\n",
       "    </tr>\n",
       "    <tr>\n",
       "      <th>4</th>\n",
       "      <td>Card   5: 70 65 54 14 32 29 39 98  9 51 | 61 1...</td>\n",
       "    </tr>\n",
       "    <tr>\n",
       "      <th>...</th>\n",
       "      <td>...</td>\n",
       "    </tr>\n",
       "    <tr>\n",
       "      <th>208</th>\n",
       "      <td>Card 209: 89 92 77 37 50 32 73 86 17  1 | 63 3...</td>\n",
       "    </tr>\n",
       "    <tr>\n",
       "      <th>209</th>\n",
       "      <td>Card 210: 95 51 91 92 29 43 24 76  8 71 | 76 9...</td>\n",
       "    </tr>\n",
       "    <tr>\n",
       "      <th>210</th>\n",
       "      <td>Card 211: 15 96 18 17 95 64 83 51 49 80 | 16 5...</td>\n",
       "    </tr>\n",
       "    <tr>\n",
       "      <th>211</th>\n",
       "      <td>Card 212: 89 63  7 28 91 90 97 44  4 42 | 74 6...</td>\n",
       "    </tr>\n",
       "    <tr>\n",
       "      <th>212</th>\n",
       "      <td>Card 213:  7 36 25 23 22 93 18 88 50 30 | 57 5...</td>\n",
       "    </tr>\n",
       "  </tbody>\n",
       "</table>\n",
       "<p>213 rows × 1 columns</p>\n",
       "</div>"
      ],
      "text/plain": [
       "                                                     0\n",
       "0    Card   1: 71 88 83  5 15 54 89 55 69 79 | 83 3...\n",
       "1    Card   2: 33 11 66 48 67 95 78 71 98 65 | 66  ...\n",
       "2    Card   3: 28 58 71 40 25 13  7 19 61 72 | 47 8...\n",
       "3    Card   4: 58 26 74 94 42 29  9 90 76 54 | 74 9...\n",
       "4    Card   5: 70 65 54 14 32 29 39 98  9 51 | 61 1...\n",
       "..                                                 ...\n",
       "208  Card 209: 89 92 77 37 50 32 73 86 17  1 | 63 3...\n",
       "209  Card 210: 95 51 91 92 29 43 24 76  8 71 | 76 9...\n",
       "210  Card 211: 15 96 18 17 95 64 83 51 49 80 | 16 5...\n",
       "211  Card 212: 89 63  7 28 91 90 97 44  4 42 | 74 6...\n",
       "212  Card 213:  7 36 25 23 22 93 18 88 50 30 | 57 5...\n",
       "\n",
       "[213 rows x 1 columns]"
      ]
     },
     "execution_count": 3,
     "metadata": {},
     "output_type": "execute_result"
    }
   ],
   "source": [
    "data"
   ]
  },
  {
   "cell_type": "code",
   "execution_count": 4,
   "id": "64f00359",
   "metadata": {},
   "outputs": [],
   "source": [
    "winning_n = []\n",
    "my_n = []\n",
    "\n",
    "for line in data[0]:\n",
    "    ack = line.split(':')[1]\n",
    "    ack = ack.split('|')\n",
    "    winning_n.append(np.array(ack[0].strip().replace('  ', ' ').split(' ')).astype(int))\n",
    "    my_n.append(np.array(ack[1].strip().replace('  ', ' ').split(' ')).astype(int))"
   ]
  },
  {
   "cell_type": "code",
   "execution_count": 5,
   "id": "96373e05",
   "metadata": {},
   "outputs": [
    {
     "data": {
      "text/plain": [
       "512.0"
      ]
     },
     "execution_count": 5,
     "metadata": {},
     "output_type": "execute_result"
    }
   ],
   "source": [
    "2.**(np.intersect1d(winning_n[0], my_n[0]).size-1)"
   ]
  },
  {
   "cell_type": "code",
   "execution_count": 6,
   "id": "c8691097",
   "metadata": {},
   "outputs": [],
   "source": [
    "scores = []\n",
    "for win, my in zip(winning_n, my_n):\n",
    "    scores.append(np.floor(2.**(np.intersect1d(win, my).size-1)))"
   ]
  },
  {
   "cell_type": "code",
   "execution_count": 7,
   "id": "2622c1d3",
   "metadata": {},
   "outputs": [
    {
     "data": {
      "text/plain": [
       "21088.0"
      ]
     },
     "execution_count": 7,
     "metadata": {},
     "output_type": "execute_result"
    }
   ],
   "source": [
    "np.sum(scores)"
   ]
  },
  {
   "cell_type": "code",
   "execution_count": 8,
   "id": "80dc098a",
   "metadata": {},
   "outputs": [],
   "source": [
    "n_cards = np.ones(len(data))"
   ]
  },
  {
   "cell_type": "code",
   "execution_count": 9,
   "id": "977460a9",
   "metadata": {},
   "outputs": [
    {
     "data": {
      "text/plain": [
       "array([1., 1., 1., 1., 1., 1., 1., 1., 1., 1., 1., 1., 1., 1., 1., 1., 1.,\n",
       "       1., 1., 1., 1., 1., 1., 1., 1., 1., 1., 1., 1., 1., 1., 1., 1., 1.,\n",
       "       1., 1., 1., 1., 1., 1., 1., 1., 1., 1., 1., 1., 1., 1., 1., 1., 1.,\n",
       "       1., 1., 1., 1., 1., 1., 1., 1., 1., 1., 1., 1., 1., 1., 1., 1., 1.,\n",
       "       1., 1., 1., 1., 1., 1., 1., 1., 1., 1., 1., 1., 1., 1., 1., 1., 1.,\n",
       "       1., 1., 1., 1., 1., 1., 1., 1., 1., 1., 1., 1., 1., 1., 1., 1., 1.,\n",
       "       1., 1., 1., 1., 1., 1., 1., 1., 1., 1., 1., 1., 1., 1., 1., 1., 1.,\n",
       "       1., 1., 1., 1., 1., 1., 1., 1., 1., 1., 1., 1., 1., 1., 1., 1., 1.,\n",
       "       1., 1., 1., 1., 1., 1., 1., 1., 1., 1., 1., 1., 1., 1., 1., 1., 1.,\n",
       "       1., 1., 1., 1., 1., 1., 1., 1., 1., 1., 1., 1., 1., 1., 1., 1., 1.,\n",
       "       1., 1., 1., 1., 1., 1., 1., 1., 1., 1., 1., 1., 1., 1., 1., 1., 1.,\n",
       "       1., 1., 1., 1., 1., 1., 1., 1., 1., 1., 1., 1., 1., 1., 1., 1., 1.,\n",
       "       1., 1., 1., 1., 1., 1., 1., 1., 1.])"
      ]
     },
     "execution_count": 9,
     "metadata": {},
     "output_type": "execute_result"
    }
   ],
   "source": [
    "n_cards"
   ]
  },
  {
   "cell_type": "code",
   "execution_count": 10,
   "id": "62d829a2",
   "metadata": {},
   "outputs": [],
   "source": [
    "matches = []\n",
    "for win, my in zip(winning_n, my_n):\n",
    "    matches.append(np.intersect1d(win, my).size)"
   ]
  },
  {
   "cell_type": "code",
   "execution_count": 11,
   "id": "847ad84b",
   "metadata": {},
   "outputs": [
    {
     "data": {
      "text/plain": [
       "[10,\n",
       " 7,\n",
       " 4,\n",
       " 8,\n",
       " 7,\n",
       " 10,\n",
       " 7,\n",
       " 10,\n",
       " 3,\n",
       " 1,\n",
       " 0,\n",
       " 0,\n",
       " 9,\n",
       " 10,\n",
       " 1,\n",
       " 7,\n",
       " 0,\n",
       " 1,\n",
       " 4,\n",
       " 4,\n",
       " 3,\n",
       " 1,\n",
       " 1,\n",
       " 0,\n",
       " 10,\n",
       " 10,\n",
       " 10,\n",
       " 10,\n",
       " 3,\n",
       " 10,\n",
       " 10,\n",
       " 0,\n",
       " 5,\n",
       " 0,\n",
       " 7,\n",
       " 7,\n",
       " 3,\n",
       " 2,\n",
       " 5,\n",
       " 1,\n",
       " 0,\n",
       " 1,\n",
       " 2,\n",
       " 0,\n",
       " 0,\n",
       " 6,\n",
       " 10,\n",
       " 10,\n",
       " 4,\n",
       " 7,\n",
       " 1,\n",
       " 0,\n",
       " 4,\n",
       " 1,\n",
       " 0,\n",
       " 6,\n",
       " 2,\n",
       " 4,\n",
       " 5,\n",
       " 3,\n",
       " 5,\n",
       " 2,\n",
       " 1,\n",
       " 0,\n",
       " 1,\n",
       " 0,\n",
       " 8,\n",
       " 10,\n",
       " 9,\n",
       " 10,\n",
       " 10,\n",
       " 10,\n",
       " 3,\n",
       " 10,\n",
       " 4,\n",
       " 6,\n",
       " 10,\n",
       " 4,\n",
       " 0,\n",
       " 7,\n",
       " 0,\n",
       " 3,\n",
       " 1,\n",
       " 0,\n",
       " 2,\n",
       " 3,\n",
       " 1,\n",
       " 1,\n",
       " 0,\n",
       " 7,\n",
       " 10,\n",
       " 6,\n",
       " 9,\n",
       " 5,\n",
       " 10,\n",
       " 4,\n",
       " 4,\n",
       " 9,\n",
       " 6,\n",
       " 3,\n",
       " 3,\n",
       " 2,\n",
       " 0,\n",
       " 1,\n",
       " 1,\n",
       " 2,\n",
       " 0,\n",
       " 2,\n",
       " 0,\n",
       " 0,\n",
       " 0,\n",
       " 6,\n",
       " 8,\n",
       " 4,\n",
       " 3,\n",
       " 10,\n",
       " 0,\n",
       " 7,\n",
       " 8,\n",
       " 3,\n",
       " 5,\n",
       " 7,\n",
       " 2,\n",
       " 6,\n",
       " 0,\n",
       " 0,\n",
       " 3,\n",
       " 0,\n",
       " 1,\n",
       " 0,\n",
       " 10,\n",
       " 7,\n",
       " 6,\n",
       " 5,\n",
       " 4,\n",
       " 1,\n",
       " 1,\n",
       " 7,\n",
       " 5,\n",
       " 3,\n",
       " 4,\n",
       " 3,\n",
       " 4,\n",
       " 6,\n",
       " 2,\n",
       " 2,\n",
       " 5,\n",
       " 0,\n",
       " 2,\n",
       " 0,\n",
       " 2,\n",
       " 1,\n",
       " 0,\n",
       " 0,\n",
       " 10,\n",
       " 3,\n",
       " 9,\n",
       " 8,\n",
       " 4,\n",
       " 3,\n",
       " 4,\n",
       " 5,\n",
       " 7,\n",
       " 6,\n",
       " 3,\n",
       " 1,\n",
       " 1,\n",
       " 3,\n",
       " 2,\n",
       " 0,\n",
       " 0,\n",
       " 10,\n",
       " 10,\n",
       " 10,\n",
       " 3,\n",
       " 10,\n",
       " 10,\n",
       " 9,\n",
       " 10,\n",
       " 10,\n",
       " 10,\n",
       " 5,\n",
       " 7,\n",
       " 9,\n",
       " 5,\n",
       " 7,\n",
       " 0,\n",
       " 7,\n",
       " 6,\n",
       " 4,\n",
       " 1,\n",
       " 4,\n",
       " 0,\n",
       " 2,\n",
       " 1,\n",
       " 0,\n",
       " 0,\n",
       " 10,\n",
       " 3,\n",
       " 9,\n",
       " 4,\n",
       " 3,\n",
       " 4,\n",
       " 7,\n",
       " 2,\n",
       " 0,\n",
       " 4,\n",
       " 2,\n",
       " 1,\n",
       " 2,\n",
       " 2,\n",
       " 1,\n",
       " 0]"
      ]
     },
     "execution_count": 11,
     "metadata": {},
     "output_type": "execute_result"
    }
   ],
   "source": [
    "matches"
   ]
  },
  {
   "cell_type": "code",
   "execution_count": 12,
   "id": "df1350c3",
   "metadata": {},
   "outputs": [],
   "source": [
    "for i, match in enumerate(matches):\n",
    "    if match > 0:\n",
    "        top = np.min([i+1+match, len(matches)-1])\n",
    "        n_cards[i+1:i+1+match] += 1*n_cards[i]\n",
    "        "
   ]
  },
  {
   "cell_type": "code",
   "execution_count": 13,
   "id": "cc63f92d",
   "metadata": {},
   "outputs": [
    {
     "data": {
      "text/plain": [
       "6874754.0"
      ]
     },
     "execution_count": 13,
     "metadata": {},
     "output_type": "execute_result"
    }
   ],
   "source": [
    "n_cards.sum()"
   ]
  },
  {
   "cell_type": "code",
   "execution_count": null,
   "id": "2fc0ef6a",
   "metadata": {},
   "outputs": [],
   "source": []
  }
 ],
 "metadata": {
  "kernelspec": {
   "display_name": "Python 3 (ipykernel)",
   "language": "python",
   "name": "python3"
  },
  "language_info": {
   "codemirror_mode": {
    "name": "ipython",
    "version": 3
   },
   "file_extension": ".py",
   "mimetype": "text/x-python",
   "name": "python",
   "nbconvert_exporter": "python",
   "pygments_lexer": "ipython3",
   "version": "3.9.16"
  }
 },
 "nbformat": 4,
 "nbformat_minor": 5
}
