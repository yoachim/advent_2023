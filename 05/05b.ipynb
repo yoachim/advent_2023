{
 "cells": [
  {
   "cell_type": "code",
   "execution_count": 1,
   "id": "d4bf2b40-8780-4985-b0c0-d06de816901f",
   "metadata": {},
   "outputs": [],
   "source": [
    "import numpy as np\n",
    "import pandas as pd"
   ]
  },
  {
   "cell_type": "code",
   "execution_count": 2,
   "id": "d6a86a21-993d-461f-9198-7ad87e7dca4c",
   "metadata": {},
   "outputs": [],
   "source": [
    "def split_ranges(range1, range2):\n",
    "    \"\"\"Split up the ranges to find the overlaps\n",
    "\n",
    "    range1 and range2 should be sorted\n",
    "\n",
    "    returns non-overlapping ranges, overlapping ranges\n",
    "    \"\"\"\n",
    "    # go through the different cases\n",
    "\n",
    "    # No overlap\n",
    "    if min(range1) > max(range2):\n",
    "        return range1, []\n",
    "    if max(range1) < min(range2):\n",
    "        return range1, []\n",
    "    # perfect overlap\n",
    "    if range1 == range2:\n",
    "        return [], range2\n",
    "\n",
    "    # range 1 completely on the inside\n",
    "    if (min(range1) >= min(range2)) & (max(range1) <= max(range2)):\n",
    "        return [], range1\n",
    "    \n",
    "    # partial overlap\n",
    "    if  range2[0] <= range1[1] <= range2[1]:\n",
    "        return [range1[0], range2[0]-1], [range2[0], range1[1]]\n",
    "    if range2[0] <= range1[0] <= range2[1]:\n",
    "        return [range2[1]+1, range1[1]], [range1[0], range2[1]]\n",
    "\n",
    "    # range2 completely on the inside\n",
    "    if (min(range2) >= min(range1)) & (max(range2) <= max(range1)):\n",
    "        return [[range1[0],range2[0]-1], [range2[1]+1, range1[1]]], range2\n"
   ]
  },
  {
   "cell_type": "code",
   "execution_count": 3,
   "id": "e0d6c0d3-85f2-4032-8310-ec3d93a0afd8",
   "metadata": {},
   "outputs": [],
   "source": [
    "class a_to_b_map(object):\n",
    "    def __init__(self, dest_starts, source_starts, range_lengths):\n",
    "        self.dest_starts = dest_starts\n",
    "        self.source_starts = source_starts\n",
    "        self.range_lengths = range_lengths\n",
    "\n",
    "        self.source_ranges = []\n",
    "        self.destination_ranges = []\n",
    "        self.offsets = []\n",
    "        for ds, ss, rl in zip(self.dest_starts, self.source_starts, self.range_lengths):\n",
    "            self.source_ranges.append([ss, ss+rl-1])\n",
    "            self.destination_ranges.append([ds, ds+rl-1])\n",
    "            self.offsets.append(ds - ss)\n",
    "    \n",
    "    def __call__(self, sources):\n",
    "        \"\"\"sources should be a list of min,max pairs\n",
    "        \"\"\"\n",
    "\n",
    "        results = []\n",
    "        \n",
    "        # Now need sources to be a list of pairs. \n",
    "        for source in sources:\n",
    "            not_moved = source.copy()\n",
    "            for source_range, offset in zip(self.source_ranges, self.offsets):\n",
    "                no_dest, to_dest = split_ranges(source, source_range)\n",
    "                if len(to_dest) > 0:\n",
    "                    dest = [to_dest[0]+offset, to_dest[1]+offset]\n",
    "                    results.append(dest)\n",
    "                    # find ranges that have not been moved\n",
    "                    no_overlap, overlap = split_ranges(not_moved, to_dest)\n",
    "                    not_moved = no_overlap\n",
    "            if len(not_moved) > 0:\n",
    "                results.append(not_moved)\n",
    "            if np.min(results) < 0:\n",
    "                import pdb ; pdb.set_trace()\n",
    "        return results"
   ]
  },
  {
   "cell_type": "code",
   "execution_count": null,
   "id": "76e913b3-9d9a-4fee-b929-e166410c9e5e",
   "metadata": {},
   "outputs": [],
   "source": []
  },
  {
   "cell_type": "code",
   "execution_count": null,
   "id": "2c6f2b37-a682-4717-9c21-b9faf97fa45d",
   "metadata": {},
   "outputs": [],
   "source": []
  },
  {
   "cell_type": "code",
   "execution_count": 4,
   "id": "54c4985b-90db-47a9-8c75-3dd773b5f1d8",
   "metadata": {},
   "outputs": [],
   "source": [
    "def numbers_to_map(in_list):\n",
    "    dest_starts = []\n",
    "    source_starts = []\n",
    "    range_lengths = []\n",
    "    for l in in_list:\n",
    "        dest_starts.append(int(l[0]))\n",
    "        source_starts.append(int(l[1]))\n",
    "        range_lengths.append(int(l[2]))\n",
    "    new_map = a_to_b_map(dest_starts, source_starts, range_lengths)\n",
    "    return new_map\n",
    "\n",
    "def read_and_make(filename):\n",
    "    numbers = None\n",
    "    maplist = []\n",
    "    with open(filename) as fp:\n",
    "        for line in fp:\n",
    "            if 'seeds:' in line:\n",
    "                seeds = line.replace('seeds: ', '').split(' ')\n",
    "            elif len(line.strip()) == 0:\n",
    "                if numbers is not None:\n",
    "                    maplist.append(numbers_to_map(numbers))\n",
    "                numbers = []\n",
    "            elif \":\" in line:\n",
    "                pass\n",
    "            else:\n",
    "                numbers.append(line.split(' '))\n",
    "        \n",
    "    seeds = [int(s.strip()) for s in seeds]\n",
    "    return seeds, maplist"
   ]
  },
  {
   "cell_type": "code",
   "execution_count": 5,
   "id": "b8a65e53-1ebd-4d03-8259-486e114e088e",
   "metadata": {},
   "outputs": [],
   "source": [
    "seeds, maplist = read_and_make('test_data/test.dat')\n",
    "#seeds, maplist = read_and_make('input')"
   ]
  },
  {
   "cell_type": "code",
   "execution_count": 6,
   "id": "58fe6a3e-c4e6-4cbb-9233-1b5441fd13c8",
   "metadata": {},
   "outputs": [
    {
     "data": {
      "text/plain": [
       "[79, 14, 55, 13]"
      ]
     },
     "execution_count": 6,
     "metadata": {},
     "output_type": "execute_result"
    }
   ],
   "source": [
    "seeds"
   ]
  },
  {
   "cell_type": "code",
   "execution_count": 7,
   "id": "c2aacdf3-0b73-415e-8fa5-d55d1befc533",
   "metadata": {},
   "outputs": [],
   "source": [
    "#locations = []\n",
    "#for val in seeds:\n",
    "#    for func in maplist:\n",
    "#        val = func(val)\n",
    "#    locations.append(val)"
   ]
  },
  {
   "cell_type": "code",
   "execution_count": 8,
   "id": "f8093fdb-8115-481a-b4e3-aeaf3d3e0714",
   "metadata": {},
   "outputs": [],
   "source": [
    "#maplist[0].source_ranges\n"
   ]
  },
  {
   "cell_type": "code",
   "execution_count": 9,
   "id": "e57d22fa-e5b7-49b9-b3c3-5dc5cfcc8a15",
   "metadata": {},
   "outputs": [],
   "source": [
    "#maplist[0].offsets"
   ]
  },
  {
   "cell_type": "code",
   "execution_count": 10,
   "id": "0b84acb8-d2f3-4290-bd4d-82a672970df9",
   "metadata": {},
   "outputs": [],
   "source": [
    "actual_seeds = []\n",
    "for seed_start, length in zip(seeds[::2], seeds[1::2]):\n",
    "    actual_seeds.append([seed_start, seed_start+length-1])"
   ]
  },
  {
   "cell_type": "code",
   "execution_count": 11,
   "id": "2db1aaa6-c9a8-43c3-9b5b-8f17e85e3f94",
   "metadata": {},
   "outputs": [
    {
     "data": {
      "text/plain": [
       "[[79, 92], [55, 67]]"
      ]
     },
     "execution_count": 11,
     "metadata": {},
     "output_type": "execute_result"
    }
   ],
   "source": [
    "actual_seeds"
   ]
  },
  {
   "cell_type": "code",
   "execution_count": 12,
   "id": "0c5e300a-4fb3-4a5d-bbd3-dde283c54a91",
   "metadata": {},
   "outputs": [
    {
     "data": {
      "text/plain": [
       "[[35, 35], [43, 43]]"
      ]
     },
     "execution_count": 12,
     "metadata": {},
     "output_type": "execute_result"
    }
   ],
   "source": [
    "# This looks good\n",
    "i=13\n",
    "val = [[13,13], [14,14]]\n",
    "for func in maplist:\n",
    "    val = func(val)\n",
    "val"
   ]
  },
  {
   "cell_type": "code",
   "execution_count": 13,
   "id": "5bfbdd36-2715-44f3-9291-5a6c334a9cf2",
   "metadata": {},
   "outputs": [
    {
     "data": {
      "text/plain": [
       "[[43, 43], [32, 35]]"
      ]
     },
     "execution_count": 13,
     "metadata": {},
     "output_type": "execute_result"
    }
   ],
   "source": [
    "val = [[10,14]]\n",
    "for func in maplist:\n",
    "    val = func(val)\n",
    "val"
   ]
  },
  {
   "cell_type": "code",
   "execution_count": 14,
   "id": "29974f11-9f0a-4ca8-878f-dae116d3c89d",
   "metadata": {},
   "outputs": [
    {
     "data": {
      "text/plain": [
       "[[0, 0], [53, 53]]"
      ]
     },
     "execution_count": 14,
     "metadata": {},
     "output_type": "execute_result"
    }
   ],
   "source": [
    "maplist[1]([[14,15]])"
   ]
  },
  {
   "cell_type": "code",
   "execution_count": 15,
   "id": "8669eeb4-8219-4f96-8e9f-8e08aa3ef701",
   "metadata": {},
   "outputs": [],
   "source": [
    "\n",
    "val = actual_seeds\n",
    "for func in maplist:\n",
    "    val = func(val)\n"
   ]
  },
  {
   "cell_type": "code",
   "execution_count": 16,
   "id": "e10f3d16-1fce-404e-bc81-8d5be2b07a7d",
   "metadata": {},
   "outputs": [
    {
     "data": {
      "text/plain": [
       "[[60, 60], [46, 55], [82, 84], [86, 89], [94, 96], [56, 59], [97, 98]]"
      ]
     },
     "execution_count": 16,
     "metadata": {},
     "output_type": "execute_result"
    }
   ],
   "source": [
    "val"
   ]
  },
  {
   "cell_type": "code",
   "execution_count": 17,
   "id": "78f83130-1477-4b99-ad60-4d60033ebf4b",
   "metadata": {},
   "outputs": [
    {
     "data": {
      "text/plain": [
       "46"
      ]
     },
     "execution_count": 17,
     "metadata": {},
     "output_type": "execute_result"
    }
   ],
   "source": [
    "np.min(val)\n",
    "\n"
   ]
  },
  {
   "cell_type": "code",
   "execution_count": null,
   "id": "4beec9d6-f83c-4380-92a9-0f68e5db0476",
   "metadata": {},
   "outputs": [],
   "source": []
  },
  {
   "cell_type": "code",
   "execution_count": 18,
   "id": "59a194ea-32a8-4382-bcdc-53a58743a7c3",
   "metadata": {},
   "outputs": [
    {
     "ename": "TypeError",
     "evalue": "'>' not supported between instances of 'list' and 'int'",
     "output_type": "error",
     "traceback": [
      "\u001b[0;31m---------------------------------------------------------------------------\u001b[0m",
      "\u001b[0;31mTypeError\u001b[0m                                 Traceback (most recent call last)",
      "Cell \u001b[0;32mIn[18], line 4\u001b[0m\n\u001b[1;32m      2\u001b[0m val \u001b[38;5;241m=\u001b[39m [[i,i], [i\u001b[38;5;241m+\u001b[39m\u001b[38;5;241m2\u001b[39m, \u001b[38;5;241m1\u001b[39m\u001b[38;5;241m+\u001b[39m\u001b[38;5;241m2\u001b[39m]]\n\u001b[1;32m      3\u001b[0m \u001b[38;5;28;01mfor\u001b[39;00m func \u001b[38;5;129;01min\u001b[39;00m maplist:\n\u001b[0;32m----> 4\u001b[0m     val \u001b[38;5;241m=\u001b[39m \u001b[43mfunc\u001b[49m\u001b[43m(\u001b[49m\u001b[43mval\u001b[49m\u001b[43m)\u001b[49m\n\u001b[1;32m      5\u001b[0m \u001b[38;5;28mprint\u001b[39m(i, val)\n",
      "Cell \u001b[0;32mIn[3], line 30\u001b[0m, in \u001b[0;36ma_to_b_map.__call__\u001b[0;34m(self, sources)\u001b[0m\n\u001b[1;32m     28\u001b[0m         results\u001b[38;5;241m.\u001b[39mappend(dest)\n\u001b[1;32m     29\u001b[0m         \u001b[38;5;66;03m# find ranges that have not been moved\u001b[39;00m\n\u001b[0;32m---> 30\u001b[0m         no_overlap, overlap \u001b[38;5;241m=\u001b[39m \u001b[43msplit_ranges\u001b[49m\u001b[43m(\u001b[49m\u001b[43mnot_moved\u001b[49m\u001b[43m,\u001b[49m\u001b[43m \u001b[49m\u001b[43mto_dest\u001b[49m\u001b[43m)\u001b[49m\n\u001b[1;32m     31\u001b[0m         not_moved \u001b[38;5;241m=\u001b[39m no_overlap\n\u001b[1;32m     32\u001b[0m \u001b[38;5;28;01mif\u001b[39;00m \u001b[38;5;28mlen\u001b[39m(not_moved) \u001b[38;5;241m>\u001b[39m \u001b[38;5;241m0\u001b[39m:\n",
      "Cell \u001b[0;32mIn[2], line 11\u001b[0m, in \u001b[0;36msplit_ranges\u001b[0;34m(range1, range2)\u001b[0m\n\u001b[1;32m      2\u001b[0m \u001b[38;5;250m\u001b[39m\u001b[38;5;124;03m\"\"\"Split up the ranges to find the overlaps\u001b[39;00m\n\u001b[1;32m      3\u001b[0m \n\u001b[1;32m      4\u001b[0m \u001b[38;5;124;03mrange1 and range2 should be sorted\u001b[39;00m\n\u001b[1;32m      5\u001b[0m \n\u001b[1;32m      6\u001b[0m \u001b[38;5;124;03mreturns non-overlapping ranges, overlapping ranges\u001b[39;00m\n\u001b[1;32m      7\u001b[0m \u001b[38;5;124;03m\"\"\"\u001b[39;00m\n\u001b[1;32m      8\u001b[0m \u001b[38;5;66;03m# go through the different cases\u001b[39;00m\n\u001b[1;32m      9\u001b[0m \n\u001b[1;32m     10\u001b[0m \u001b[38;5;66;03m# No overlap\u001b[39;00m\n\u001b[0;32m---> 11\u001b[0m \u001b[38;5;28;01mif\u001b[39;00m \u001b[38;5;28;43mmin\u001b[39;49m\u001b[43m(\u001b[49m\u001b[43mrange1\u001b[49m\u001b[43m)\u001b[49m\u001b[43m \u001b[49m\u001b[38;5;241;43m>\u001b[39;49m\u001b[43m \u001b[49m\u001b[38;5;28;43mmax\u001b[39;49m\u001b[43m(\u001b[49m\u001b[43mrange2\u001b[49m\u001b[43m)\u001b[49m:\n\u001b[1;32m     12\u001b[0m     \u001b[38;5;28;01mreturn\u001b[39;00m range1, []\n\u001b[1;32m     13\u001b[0m \u001b[38;5;28;01mif\u001b[39;00m \u001b[38;5;28mmax\u001b[39m(range1) \u001b[38;5;241m<\u001b[39m \u001b[38;5;28mmin\u001b[39m(range2):\n",
      "\u001b[0;31mTypeError\u001b[0m: '>' not supported between instances of 'list' and 'int'"
     ]
    }
   ],
   "source": [
    "i=82\n",
    "val = [[i,i], [i+2, 1+2]]\n",
    "for func in maplist:\n",
    "    val = func(val)\n",
    "print(i, val)"
   ]
  },
  {
   "cell_type": "code",
   "execution_count": null,
   "id": "22aa4c57-6d73-4563-99b9-d91dcd0abb6b",
   "metadata": {},
   "outputs": [],
   "source": []
  },
  {
   "cell_type": "code",
   "execution_count": null,
   "id": "e60cf878-387f-4d42-988a-c9484ae138e7",
   "metadata": {},
   "outputs": [],
   "source": []
  },
  {
   "cell_type": "code",
   "execution_count": null,
   "id": "8124b6b0-678b-43bc-a88e-acb6fbfbd7d1",
   "metadata": {},
   "outputs": [],
   "source": []
  },
  {
   "cell_type": "code",
   "execution_count": null,
   "id": "fbc5e7ce-f895-495c-b97c-c09cfab4edc9",
   "metadata": {},
   "outputs": [],
   "source": []
  }
 ],
 "metadata": {
  "kernelspec": {
   "display_name": "Python 3 (ipykernel)",
   "language": "python",
   "name": "python3"
  },
  "language_info": {
   "codemirror_mode": {
    "name": "ipython",
    "version": 3
   },
   "file_extension": ".py",
   "mimetype": "text/x-python",
   "name": "python",
   "nbconvert_exporter": "python",
   "pygments_lexer": "ipython3",
   "version": "3.11.6"
  }
 },
 "nbformat": 4,
 "nbformat_minor": 5
}
