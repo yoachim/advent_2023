{
 "cells": [
  {
   "cell_type": "code",
   "execution_count": 1,
   "id": "d4bf2b40-8780-4985-b0c0-d06de816901f",
   "metadata": {},
   "outputs": [],
   "source": [
    "import numpy as np\n",
    "import pandas as pd"
   ]
  },
  {
   "cell_type": "code",
   "execution_count": 2,
   "id": "d6a86a21-993d-461f-9198-7ad87e7dca4c",
   "metadata": {},
   "outputs": [],
   "source": [
    "def split_ranges(range1, range2):\n",
    "    \"\"\"Split up the ranges to find the overlaps\n",
    "\n",
    "    range1 and range2 should be sorted\n",
    "\n",
    "    returns non-overlapping ranges, overlapping ranges\n",
    "    \"\"\"\n",
    "    # go through the different cases\n",
    "\n",
    "    # No overlap\n",
    "    if min(range1) > max(range2):\n",
    "        return range1, []\n",
    "    if max(range1) < min(range2):\n",
    "        return range1, []\n",
    "    # perfect overlap\n",
    "    if range1 == range2:\n",
    "        return [], range2\n",
    "\n",
    "    # range 1 completely on the inside\n",
    "    if (min(range1) >= min(range2)) & (max(range1) <= max(range2)):\n",
    "        return [], range1\n",
    "    \n",
    "    # partial overlap\n",
    "    if  range2[0] <= range1[1] <= range2[1]:\n",
    "        return [range1[0], range2[0]-1], [range2[0], range1[1]]\n",
    "    if range2[0] <= range1[0] <= range2[1]:\n",
    "        return [range2[1]+1, range1[1]], [range1[0], range2[1]]\n",
    "\n",
    "    # range2 completely on the inside\n",
    "    if (min(range2) >= min(range1)) & (max(range2) <= max(range1)):\n",
    "        return [[range1[0],range2[0]-1], [range2[1]+1, range1[1]]], range2\n"
   ]
  },
  {
   "cell_type": "code",
   "execution_count": 3,
   "id": "e0d6c0d3-85f2-4032-8310-ec3d93a0afd8",
   "metadata": {},
   "outputs": [],
   "source": [
    "class a_to_b_map(object):\n",
    "    def __init__(self, dest_starts, source_starts, range_lengths):\n",
    "        self.dest_starts = dest_starts\n",
    "        self.source_starts = source_starts\n",
    "        self.range_lengths = range_lengths\n",
    "\n",
    "        self.source_ranges = []\n",
    "        self.destination_ranges = []\n",
    "        self.offsets = []\n",
    "        for ds, ss, rl in zip(self.dest_starts, self.source_starts, self.range_lengths):\n",
    "            self.source_ranges.append([ss, ss+rl-1])\n",
    "            self.destination_ranges.append([ds, ds+rl-1])\n",
    "            self.offsets.append(ds - ss)\n",
    "    \n",
    "    def __call__(self, sources):\n",
    "        \"\"\"sources should be a list of min,max pairs\n",
    "        \"\"\"\n",
    "\n",
    "        results = []\n",
    "        \n",
    "        # Now need sources to be a list of pairs. \n",
    "        all_remaining = []\n",
    "        for source in sources:\n",
    "            no_dests = []\n",
    "            remainder = [source.copy()]\n",
    "            for source_range, offset in zip(self.source_ranges, self.offsets):\n",
    "                no_dest, to_dest = split_ranges(source, source_range)\n",
    "                if len(to_dest) > 0:\n",
    "                    dest = [to_dest[0]+offset, to_dest[1]+offset]\n",
    "                    results.append(dest)\n",
    "                    # remove the to_dest from sources remaining\n",
    "                    new_remainder = []\n",
    "                    for chunk in remainder:\n",
    "                        rem, overlap = split_ranges(chunk, to_dest)\n",
    "                        if len(rem) > 0:\n",
    "                            if isinstance(rem[0],list):\n",
    "                                new_remainder.extend(rem)\n",
    "                            else:\n",
    "                                new_remainder.append(rem)\n",
    "                    remainder = new_remainder\n",
    "            if len(remainder) > 0:\n",
    "                if len(remainder[0]) > 1:\n",
    "                    all_remaining.extend(remainder)\n",
    "        if len(all_remaining) > 0:\n",
    "            results.extend(all_remaining)\n",
    "        if not isinstance(results[0], list):\n",
    "            results = [results]\n",
    "        return results"
   ]
  },
  {
   "cell_type": "code",
   "execution_count": null,
   "id": "76e913b3-9d9a-4fee-b929-e166410c9e5e",
   "metadata": {},
   "outputs": [],
   "source": []
  },
  {
   "cell_type": "code",
   "execution_count": null,
   "id": "2c6f2b37-a682-4717-9c21-b9faf97fa45d",
   "metadata": {},
   "outputs": [],
   "source": []
  },
  {
   "cell_type": "code",
   "execution_count": 4,
   "id": "54c4985b-90db-47a9-8c75-3dd773b5f1d8",
   "metadata": {},
   "outputs": [],
   "source": [
    "def numbers_to_map(in_list):\n",
    "    dest_starts = []\n",
    "    source_starts = []\n",
    "    range_lengths = []\n",
    "    for l in in_list:\n",
    "        dest_starts.append(int(l[0]))\n",
    "        source_starts.append(int(l[1]))\n",
    "        range_lengths.append(int(l[2]))\n",
    "    new_map = a_to_b_map(dest_starts, source_starts, range_lengths)\n",
    "    return new_map\n",
    "\n",
    "def read_and_make(filename):\n",
    "    numbers = None\n",
    "    maplist = []\n",
    "    with open(filename) as fp:\n",
    "        for line in fp:\n",
    "            if 'seeds:' in line:\n",
    "                seeds = line.replace('seeds: ', '').split(' ')\n",
    "            elif len(line.strip()) == 0:\n",
    "                if numbers is not None:\n",
    "                    maplist.append(numbers_to_map(numbers))\n",
    "                numbers = []\n",
    "            elif \":\" in line:\n",
    "                pass\n",
    "            else:\n",
    "                numbers.append(line.split(' '))\n",
    "        \n",
    "    seeds = [int(s.strip()) for s in seeds]\n",
    "    return seeds, maplist"
   ]
  },
  {
   "cell_type": "code",
   "execution_count": 5,
   "id": "b8a65e53-1ebd-4d03-8259-486e114e088e",
   "metadata": {},
   "outputs": [],
   "source": [
    "#seeds, maplist = read_and_make('test_data/test.dat')\n",
    "seeds, maplist = read_and_make('input')"
   ]
  },
  {
   "cell_type": "code",
   "execution_count": 6,
   "id": "58fe6a3e-c4e6-4cbb-9233-1b5441fd13c8",
   "metadata": {},
   "outputs": [
    {
     "data": {
      "text/plain": [
       "[4043382508,\n",
       " 113348245,\n",
       " 3817519559,\n",
       " 177922221,\n",
       " 3613573568,\n",
       " 7600537,\n",
       " 773371046,\n",
       " 400582097,\n",
       " 2054637767,\n",
       " 162982133,\n",
       " 2246524522,\n",
       " 153824596,\n",
       " 1662955672,\n",
       " 121419555,\n",
       " 2473628355,\n",
       " 846370595,\n",
       " 1830497666,\n",
       " 190544464,\n",
       " 230006436,\n",
       " 483872831]"
      ]
     },
     "execution_count": 6,
     "metadata": {},
     "output_type": "execute_result"
    }
   ],
   "source": [
    "seeds"
   ]
  },
  {
   "cell_type": "code",
   "execution_count": 7,
   "id": "c2aacdf3-0b73-415e-8fa5-d55d1befc533",
   "metadata": {},
   "outputs": [],
   "source": [
    "#locations = []\n",
    "#for val in seeds:\n",
    "#    for func in maplist:\n",
    "#        val = func(val)\n",
    "#    locations.append(val)"
   ]
  },
  {
   "cell_type": "code",
   "execution_count": 8,
   "id": "f8093fdb-8115-481a-b4e3-aeaf3d3e0714",
   "metadata": {},
   "outputs": [],
   "source": [
    "#maplist[0].source_ranges\n"
   ]
  },
  {
   "cell_type": "code",
   "execution_count": 9,
   "id": "e57d22fa-e5b7-49b9-b3c3-5dc5cfcc8a15",
   "metadata": {},
   "outputs": [],
   "source": [
    "#maplist[0].offsets"
   ]
  },
  {
   "cell_type": "code",
   "execution_count": 10,
   "id": "0b84acb8-d2f3-4290-bd4d-82a672970df9",
   "metadata": {},
   "outputs": [],
   "source": [
    "actual_seeds = []\n",
    "for seed_start, length in zip(seeds[::2], seeds[1::2]):\n",
    "    actual_seeds.append([seed_start, seed_start+length-1])"
   ]
  },
  {
   "cell_type": "code",
   "execution_count": 11,
   "id": "2db1aaa6-c9a8-43c3-9b5b-8f17e85e3f94",
   "metadata": {},
   "outputs": [
    {
     "data": {
      "text/plain": [
       "[[4043382508, 4156730752],\n",
       " [3817519559, 3995441779],\n",
       " [3613573568, 3621174104],\n",
       " [773371046, 1173953142],\n",
       " [2054637767, 2217619899],\n",
       " [2246524522, 2400349117],\n",
       " [1662955672, 1784375226],\n",
       " [2473628355, 3319998949],\n",
       " [1830497666, 2021042129],\n",
       " [230006436, 713879266]]"
      ]
     },
     "execution_count": 11,
     "metadata": {},
     "output_type": "execute_result"
    }
   ],
   "source": [
    "actual_seeds"
   ]
  },
  {
   "cell_type": "code",
   "execution_count": 12,
   "id": "0c5e300a-4fb3-4a5d-bbd3-dde283c54a91",
   "metadata": {},
   "outputs": [
    {
     "data": {
      "text/plain": [
       "[[1105083910, 1105083910], [1105083911, 1105083911]]"
      ]
     },
     "execution_count": 12,
     "metadata": {},
     "output_type": "execute_result"
    }
   ],
   "source": [
    "# This looks good\n",
    "i=13\n",
    "val = [[13,13], [14,14]]\n",
    "for func in maplist:\n",
    "    val = func(val)\n",
    "val"
   ]
  },
  {
   "cell_type": "code",
   "execution_count": 13,
   "id": "5bfbdd36-2715-44f3-9291-5a6c334a9cf2",
   "metadata": {},
   "outputs": [
    {
     "data": {
      "text/plain": [
       "[[1105083907, 1105083911]]"
      ]
     },
     "execution_count": 13,
     "metadata": {},
     "output_type": "execute_result"
    }
   ],
   "source": [
    "val = [[10,14]]\n",
    "for func in maplist:\n",
    "    val = func(val)\n",
    "val"
   ]
  },
  {
   "cell_type": "code",
   "execution_count": 14,
   "id": "29974f11-9f0a-4ca8-878f-dae116d3c89d",
   "metadata": {},
   "outputs": [
    {
     "data": {
      "text/plain": [
       "[[1626068778, 1626068779]]"
      ]
     },
     "execution_count": 14,
     "metadata": {},
     "output_type": "execute_result"
    }
   ],
   "source": [
    "maplist[0]([[14,15]])"
   ]
  },
  {
   "cell_type": "code",
   "execution_count": 15,
   "id": "f3d8409a-c637-4050-afc7-69f3b932e683",
   "metadata": {},
   "outputs": [
    {
     "data": {
      "text/plain": [
       "[[360004331, 360004332]]"
      ]
     },
     "execution_count": 15,
     "metadata": {},
     "output_type": "execute_result"
    }
   ],
   "source": [
    "maplist[1]([[14,15]])\n"
   ]
  },
  {
   "cell_type": "code",
   "execution_count": 16,
   "id": "8669eeb4-8219-4f96-8e9f-8e08aa3ef701",
   "metadata": {},
   "outputs": [],
   "source": [
    "\n",
    "val = actual_seeds\n",
    "for func in maplist:\n",
    "    val = func(val)\n"
   ]
  },
  {
   "cell_type": "code",
   "execution_count": null,
   "id": "e10f3d16-1fce-404e-bc81-8d5be2b07a7d",
   "metadata": {},
   "outputs": [],
   "source": []
  },
  {
   "cell_type": "code",
   "execution_count": 17,
   "id": "78f83130-1477-4b99-ad60-4d60033ebf4b",
   "metadata": {},
   "outputs": [
    {
     "data": {
      "text/plain": [
       "60568880"
      ]
     },
     "execution_count": 17,
     "metadata": {},
     "output_type": "execute_result"
    }
   ],
   "source": [
    "np.min(val)\n",
    "\n"
   ]
  },
  {
   "cell_type": "code",
   "execution_count": 18,
   "id": "4beec9d6-f83c-4380-92a9-0f68e5db0476",
   "metadata": {},
   "outputs": [
    {
     "name": "stdout",
     "output_type": "stream",
     "text": [
      "CPU times: user 5.15 ms, sys: 0 ns, total: 5.15 ms\n",
      "Wall time: 5.22 ms\n"
     ]
    }
   ],
   "source": [
    "%%time\n",
    "val = actual_seeds\n",
    "for func in maplist:\n",
    "    val = func(val)\n"
   ]
  },
  {
   "cell_type": "code",
   "execution_count": 19,
   "id": "59a194ea-32a8-4382-bcdc-53a58743a7c3",
   "metadata": {},
   "outputs": [
    {
     "name": "stdout",
     "output_type": "stream",
     "text": [
      "82 [[1105083979, 1105083979], [1105083981, 1105083981]]\n"
     ]
    }
   ],
   "source": [
    "i=82\n",
    "val = [[i,i], [i+2, i+2]]\n",
    "for func in maplist:\n",
    "    val = func(val)\n",
    "print(i, val)"
   ]
  },
  {
   "cell_type": "code",
   "execution_count": null,
   "id": "22aa4c57-6d73-4563-99b9-d91dcd0abb6b",
   "metadata": {},
   "outputs": [],
   "source": []
  },
  {
   "cell_type": "code",
   "execution_count": null,
   "id": "e60cf878-387f-4d42-988a-c9484ae138e7",
   "metadata": {},
   "outputs": [],
   "source": []
  },
  {
   "cell_type": "code",
   "execution_count": null,
   "id": "8124b6b0-678b-43bc-a88e-acb6fbfbd7d1",
   "metadata": {},
   "outputs": [],
   "source": []
  },
  {
   "cell_type": "code",
   "execution_count": null,
   "id": "fbc5e7ce-f895-495c-b97c-c09cfab4edc9",
   "metadata": {},
   "outputs": [],
   "source": []
  }
 ],
 "metadata": {
  "kernelspec": {
   "display_name": "Python 3 (ipykernel)",
   "language": "python",
   "name": "python3"
  },
  "language_info": {
   "codemirror_mode": {
    "name": "ipython",
    "version": 3
   },
   "file_extension": ".py",
   "mimetype": "text/x-python",
   "name": "python",
   "nbconvert_exporter": "python",
   "pygments_lexer": "ipython3",
   "version": "3.11.6"
  }
 },
 "nbformat": 4,
 "nbformat_minor": 5
}
