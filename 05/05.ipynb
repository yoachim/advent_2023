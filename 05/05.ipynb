{
 "cells": [
  {
   "cell_type": "code",
   "execution_count": 1,
   "id": "d4bf2b40-8780-4985-b0c0-d06de816901f",
   "metadata": {},
   "outputs": [],
   "source": [
    "import numpy as np\n",
    "import pandas as pd"
   ]
  },
  {
   "cell_type": "code",
   "execution_count": 2,
   "id": "693104e5-2c70-4121-adab-1e240cabce95",
   "metadata": {},
   "outputs": [],
   "source": [
    "class a_to_b_map(object):\n",
    "    def __init__(self, dest_starts, source_starts, range_lengths):\n",
    "        destinations = []\n",
    "        sources = []\n",
    "        for ds, ss, rl in zip(dest_starts, source_starts, range_lengths):\n",
    "            destinations.extend(range(ds, ds+rl))\n",
    "            sources.extend(range(ss, ss+rl))\n",
    "        self.destinations = np.array(destinations)\n",
    "        self.sources = np.array(sources)\n",
    "    def __call__(self, source):\n",
    "        indx = np.where(self.sources == source)[0]\n",
    "        if indx.size == 0:\n",
    "            return source\n",
    "        else:\n",
    "            return self.destinations[indx].max()"
   ]
  },
  {
   "cell_type": "code",
   "execution_count": 3,
   "id": "2c6f2b37-a682-4717-9c21-b9faf97fa45d",
   "metadata": {},
   "outputs": [],
   "source": [
    "func = a_to_b_map([50,52], [98,50], [2,48])"
   ]
  },
  {
   "cell_type": "code",
   "execution_count": 4,
   "id": "54c4985b-90db-47a9-8c75-3dd773b5f1d8",
   "metadata": {},
   "outputs": [],
   "source": [
    "def numbers_to_map(in_list):\n",
    "    dest_starts = []\n",
    "    source_starts = []\n",
    "    range_lengths = []\n",
    "    for l in in_list:\n",
    "        dest_starts.append(int(l[0]))\n",
    "        source_starts.append(int(l[1]))\n",
    "        range_lengths.append(int(l[2]))\n",
    "    new_map = a_to_b_map(dest_starts, source_starts, range_lengths)\n",
    "    return new_map\n",
    "\n",
    "def read_and_make(filename):\n",
    "    numbers = None\n",
    "    maplist = []\n",
    "    with open(filename) as fp:\n",
    "        for line in fp:\n",
    "            if 'seeds:' in line:\n",
    "                seeds = line.replace('seeds: ', '').split(' ')\n",
    "            elif len(line.strip()) == 0:\n",
    "                if numbers is not None:\n",
    "                    maplist.append(numbers_to_map(numbers))\n",
    "                numbers = []\n",
    "            elif \":\" in line:\n",
    "                pass\n",
    "            else:\n",
    "                numbers.append(line.split(' '))\n",
    "        \n",
    "    seeds = [int(s.strip()) for s in seeds]\n",
    "    return seeds, maplist"
   ]
  },
  {
   "cell_type": "code",
   "execution_count": 5,
   "id": "b8a65e53-1ebd-4d03-8259-486e114e088e",
   "metadata": {},
   "outputs": [],
   "source": [
    "seeds, maplist = read_and_make('test_data/test.dat')"
   ]
  },
  {
   "cell_type": "code",
   "execution_count": 6,
   "id": "58fe6a3e-c4e6-4cbb-9233-1b5441fd13c8",
   "metadata": {},
   "outputs": [
    {
     "data": {
      "text/plain": [
       "[79, 14, 55, 13]"
      ]
     },
     "execution_count": 6,
     "metadata": {},
     "output_type": "execute_result"
    }
   ],
   "source": [
    "seeds"
   ]
  },
  {
   "cell_type": "code",
   "execution_count": 7,
   "id": "c2aacdf3-0b73-415e-8fa5-d55d1befc533",
   "metadata": {},
   "outputs": [],
   "source": [
    "locations = []\n",
    "for val in seeds:\n",
    "    for func in maplist:\n",
    "        val = func(val)\n",
    "    locations.append(val)"
   ]
  },
  {
   "cell_type": "code",
   "execution_count": 8,
   "id": "f8093fdb-8115-481a-b4e3-aeaf3d3e0714",
   "metadata": {},
   "outputs": [
    {
     "data": {
      "text/plain": [
       "[82, 43, 86, 35]"
      ]
     },
     "execution_count": 8,
     "metadata": {},
     "output_type": "execute_result"
    }
   ],
   "source": [
    "locations"
   ]
  },
  {
   "cell_type": "code",
   "execution_count": 9,
   "id": "e57d22fa-e5b7-49b9-b3c3-5dc5cfcc8a15",
   "metadata": {},
   "outputs": [
    {
     "data": {
      "text/plain": [
       "35"
      ]
     },
     "execution_count": 9,
     "metadata": {},
     "output_type": "execute_result"
    }
   ],
   "source": [
    "min(locations)"
   ]
  },
  {
   "cell_type": "code",
   "execution_count": null,
   "id": "0b84acb8-d2f3-4290-bd4d-82a672970df9",
   "metadata": {},
   "outputs": [],
   "source": []
  }
 ],
 "metadata": {
  "kernelspec": {
   "display_name": "Python 3 (ipykernel)",
   "language": "python",
   "name": "python3"
  },
  "language_info": {
   "codemirror_mode": {
    "name": "ipython",
    "version": 3
   },
   "file_extension": ".py",
   "mimetype": "text/x-python",
   "name": "python",
   "nbconvert_exporter": "python",
   "pygments_lexer": "ipython3",
   "version": "3.11.6"
  }
 },
 "nbformat": 4,
 "nbformat_minor": 5
}
