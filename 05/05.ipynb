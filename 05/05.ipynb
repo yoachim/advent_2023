{
 "cells": [
  {
   "cell_type": "code",
   "execution_count": 1,
   "id": "d4bf2b40-8780-4985-b0c0-d06de816901f",
   "metadata": {},
   "outputs": [],
   "source": [
    "import numpy as np\n",
    "import pandas as pd"
   ]
  },
  {
   "cell_type": "code",
   "execution_count": 2,
   "id": "693104e5-2c70-4121-adab-1e240cabce95",
   "metadata": {},
   "outputs": [],
   "source": [
    "class a_to_b_map(object):\n",
    "    def __init__(self, dest_starts, source_starts, range_lengths):\n",
    "        self.dest_starts = dest_starts\n",
    "        self.source_starts = source_starts\n",
    "        self.range_lengths = range_lengths\n",
    "    def __call__(self, source):\n",
    "        for ds, ss, rl in zip(self.dest_starts, self.source_starts, self.range_lengths):\n",
    "            if ss <= source <= (ss+rl):\n",
    "                diff = source - ss\n",
    "                return ds+ diff\n",
    "        \n",
    "        return source"
   ]
  },
  {
   "cell_type": "code",
   "execution_count": 3,
   "id": "2c6f2b37-a682-4717-9c21-b9faf97fa45d",
   "metadata": {},
   "outputs": [],
   "source": [
    "func = a_to_b_map([50,52], [98,50], [2,48])"
   ]
  },
  {
   "cell_type": "code",
   "execution_count": 4,
   "id": "54c4985b-90db-47a9-8c75-3dd773b5f1d8",
   "metadata": {},
   "outputs": [],
   "source": [
    "def numbers_to_map(in_list):\n",
    "    dest_starts = []\n",
    "    source_starts = []\n",
    "    range_lengths = []\n",
    "    for l in in_list:\n",
    "        dest_starts.append(int(l[0]))\n",
    "        source_starts.append(int(l[1]))\n",
    "        range_lengths.append(int(l[2]))\n",
    "    new_map = a_to_b_map(dest_starts, source_starts, range_lengths)\n",
    "    return new_map\n",
    "\n",
    "def read_and_make(filename):\n",
    "    numbers = None\n",
    "    maplist = []\n",
    "    with open(filename) as fp:\n",
    "        for line in fp:\n",
    "            if 'seeds:' in line:\n",
    "                seeds = line.replace('seeds: ', '').split(' ')\n",
    "            elif len(line.strip()) == 0:\n",
    "                if numbers is not None:\n",
    "                    maplist.append(numbers_to_map(numbers))\n",
    "                numbers = []\n",
    "            elif \":\" in line:\n",
    "                pass\n",
    "            else:\n",
    "                numbers.append(line.split(' '))\n",
    "        \n",
    "    seeds = [int(s.strip()) for s in seeds]\n",
    "    return seeds, maplist"
   ]
  },
  {
   "cell_type": "code",
   "execution_count": 5,
   "id": "b8a65e53-1ebd-4d03-8259-486e114e088e",
   "metadata": {},
   "outputs": [],
   "source": [
    "seeds, maplist = read_and_make('test_data/test.dat')\n",
    "#seeds, maplist = read_and_make('input')"
   ]
  },
  {
   "cell_type": "code",
   "execution_count": 6,
   "id": "58fe6a3e-c4e6-4cbb-9233-1b5441fd13c8",
   "metadata": {},
   "outputs": [
    {
     "data": {
      "text/plain": [
       "[79, 14, 55, 13]"
      ]
     },
     "execution_count": 6,
     "metadata": {},
     "output_type": "execute_result"
    }
   ],
   "source": [
    "seeds"
   ]
  },
  {
   "cell_type": "code",
   "execution_count": 7,
   "id": "c2aacdf3-0b73-415e-8fa5-d55d1befc533",
   "metadata": {},
   "outputs": [],
   "source": [
    "locations = []\n",
    "for val in seeds:\n",
    "    for func in maplist:\n",
    "        val = func(val)\n",
    "    locations.append(val)"
   ]
  },
  {
   "cell_type": "code",
   "execution_count": 8,
   "id": "f8093fdb-8115-481a-b4e3-aeaf3d3e0714",
   "metadata": {},
   "outputs": [
    {
     "data": {
      "text/plain": [
       "[82, 43, 86, 35]"
      ]
     },
     "execution_count": 8,
     "metadata": {},
     "output_type": "execute_result"
    }
   ],
   "source": [
    "locations"
   ]
  },
  {
   "cell_type": "code",
   "execution_count": 9,
   "id": "e57d22fa-e5b7-49b9-b3c3-5dc5cfcc8a15",
   "metadata": {},
   "outputs": [
    {
     "data": {
      "text/plain": [
       "35"
      ]
     },
     "execution_count": 9,
     "metadata": {},
     "output_type": "execute_result"
    }
   ],
   "source": [
    "min(locations)"
   ]
  },
  {
   "cell_type": "code",
   "execution_count": 10,
   "id": "0b84acb8-d2f3-4290-bd4d-82a672970df9",
   "metadata": {},
   "outputs": [],
   "source": [
    "actual_seeds = []\n",
    "for seed_start, length in zip(seeds[::2], seeds[1::2]):\n",
    "    actual_seeds += list(range(seed_start, seed_start+length))"
   ]
  },
  {
   "cell_type": "code",
   "execution_count": 11,
   "id": "2db1aaa6-c9a8-43c3-9b5b-8f17e85e3f94",
   "metadata": {},
   "outputs": [
    {
     "data": {
      "text/plain": [
       "[79,\n",
       " 80,\n",
       " 81,\n",
       " 82,\n",
       " 83,\n",
       " 84,\n",
       " 85,\n",
       " 86,\n",
       " 87,\n",
       " 88,\n",
       " 89,\n",
       " 90,\n",
       " 91,\n",
       " 92,\n",
       " 55,\n",
       " 56,\n",
       " 57,\n",
       " 58,\n",
       " 59,\n",
       " 60,\n",
       " 61,\n",
       " 62,\n",
       " 63,\n",
       " 64,\n",
       " 65,\n",
       " 66,\n",
       " 67]"
      ]
     },
     "execution_count": 11,
     "metadata": {},
     "output_type": "execute_result"
    }
   ],
   "source": [
    "actual_seeds"
   ]
  },
  {
   "cell_type": "code",
   "execution_count": 13,
   "id": "8669eeb4-8219-4f96-8e9f-8e08aa3ef701",
   "metadata": {},
   "outputs": [],
   "source": [
    "locations = []\n",
    "for val in actual_seeds:\n",
    "    for func in maplist:\n",
    "        val = func(val)\n",
    "    locations.append(val)"
   ]
  },
  {
   "cell_type": "code",
   "execution_count": 15,
   "id": "e10f3d16-1fce-404e-bc81-8d5be2b07a7d",
   "metadata": {},
   "outputs": [
    {
     "data": {
      "text/plain": [
       "46"
      ]
     },
     "execution_count": 15,
     "metadata": {},
     "output_type": "execute_result"
    }
   ],
   "source": [
    "min(locations)"
   ]
  },
  {
   "cell_type": "code",
   "execution_count": null,
   "id": "78f83130-1477-4b99-ad60-4d60033ebf4b",
   "metadata": {},
   "outputs": [],
   "source": []
  }
 ],
 "metadata": {
  "kernelspec": {
   "display_name": "Python 3 (ipykernel)",
   "language": "python",
   "name": "python3"
  },
  "language_info": {
   "codemirror_mode": {
    "name": "ipython",
    "version": 3
   },
   "file_extension": ".py",
   "mimetype": "text/x-python",
   "name": "python",
   "nbconvert_exporter": "python",
   "pygments_lexer": "ipython3",
   "version": "3.11.6"
  }
 },
 "nbformat": 4,
 "nbformat_minor": 5
}
